{
 "cells": [
  {
   "cell_type": "code",
   "execution_count": 1,
   "id": "7da9472c-94ae-46f6-bce5-746270a142cf",
   "metadata": {},
   "outputs": [],
   "source": [
    "import numpy as np\n",
    "import pandas as pd\n",
    "from matplotlib import pyplot as plt\n",
    "import seaborn as sns;sns.set()\n",
    "import warnings\n",
    "\n",
    "rng = np.random.default_rng() #For generating random numbers from normal distribution\n",
    "T = 252 #Number of trading days in a year"
   ]
  },
  {
   "cell_type": "code",
   "execution_count": null,
   "id": "7d205a68-5bf1-4130-ada8-8851066b56f8",
   "metadata": {},
   "outputs": [],
   "source": []
  }
 ],
 "metadata": {
  "kernelspec": {
   "display_name": "Python 3 (ipykernel)",
   "language": "python",
   "name": "python3"
  },
  "language_info": {
   "codemirror_mode": {
    "name": "ipython",
    "version": 3
   },
   "file_extension": ".py",
   "mimetype": "text/x-python",
   "name": "python",
   "nbconvert_exporter": "python",
   "pygments_lexer": "ipython3",
   "version": "3.11.9"
  }
 },
 "nbformat": 4,
 "nbformat_minor": 5
}
